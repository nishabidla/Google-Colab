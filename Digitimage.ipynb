{
  "nbformat": 4,
  "nbformat_minor": 0,
  "metadata": {
    "colab": {
      "provenance": [],
      "authorship_tag": "ABX9TyM9mNzDbC9UieI5ASrVWCnb",
      "include_colab_link": true
    },
    "kernelspec": {
      "name": "python3",
      "display_name": "Python 3"
    },
    "language_info": {
      "name": "python"
    }
  },
  "cells": [
    {
      "cell_type": "markdown",
      "metadata": {
        "id": "view-in-github",
        "colab_type": "text"
      },
      "source": [
        "<a href=\"https://colab.research.google.com/github/nishabidla/Google-Colab/blob/main/Digitimage.ipynb\" target=\"_parent\"><img src=\"https://colab.research.google.com/assets/colab-badge.svg\" alt=\"Open In Colab\"/></a>"
      ]
    },
    {
      "cell_type": "code",
      "execution_count": 1,
      "metadata": {
        "id": "fkBXLEZvaQ6p"
      },
      "outputs": [],
      "source": [
        "# Import necessary libraries\n",
        "import tensorflow as tf\n",
        "from tensorflow.keras.models import Sequential\n",
        "from tensorflow.keras.layers import Conv2D, MaxPooling2D, Flatten, Dense, Dropout\n",
        "from tensorflow.keras.preprocessing.image import ImageDataGenerator\n",
        "import pandas as pd"
      ]
    },
    {
      "cell_type": "code",
      "source": [
        "# Mount Google Drive\n",
        "from google.colab import drive\n",
        "drive.mount('/content/drive')"
      ],
      "metadata": {
        "colab": {
          "base_uri": "https://localhost:8080/"
        },
        "id": "4pLWPH3XhNL1",
        "outputId": "b03332e1-e7ae-48da-ba29-f45ab01034df"
      },
      "execution_count": 2,
      "outputs": [
        {
          "output_type": "stream",
          "name": "stdout",
          "text": [
            "Mounted at /content/drive\n"
          ]
        }
      ]
    },
    {
      "cell_type": "code",
      "source": [
        "# Load the pre-trained model (VGG16 in this case)\n",
        "base_model = tf.keras.applications.VGG16(input_shape=(224, 224, 3),\n",
        "                                         include_top=False,\n",
        "                                         weights='imagenet')\n",
        "\n",
        "# Freeze the layers of the pre-trained model\n",
        "for layer in base_model.layers:\n",
        "    layer.trainable = False\n",
        "\n",
        "# Create a new model\n",
        "model = Sequential([\n",
        "    base_model,\n",
        "    Flatten(),\n",
        "    Dense(256, activation='relu'),\n",
        "    Dropout(0.5),\n",
        "    Dense(1, activation='sigmoid')  # Binary classification: medical equipment or not\n",
        "])\n"
      ],
      "metadata": {
        "colab": {
          "base_uri": "https://localhost:8080/"
        },
        "id": "XH1Oq5-ljB-b",
        "outputId": "38d5399d-f378-491f-dc34-eb07323e9eac"
      },
      "execution_count": 3,
      "outputs": [
        {
          "output_type": "stream",
          "name": "stdout",
          "text": [
            "Downloading data from https://storage.googleapis.com/tensorflow/keras-applications/vgg16/vgg16_weights_tf_dim_ordering_tf_kernels_notop.h5\n",
            "58889256/58889256 [==============================] - 1s 0us/step\n"
          ]
        }
      ]
    },
    {
      "cell_type": "code",
      "source": [
        "# Compile the model\n",
        "model.compile(optimizer='adam',\n",
        "              loss='binary_crossentropy',\n",
        "              metrics=['accuracy'])"
      ],
      "metadata": {
        "id": "lvQBrB4xjwUT"
      },
      "execution_count": 4,
      "outputs": []
    },
    {
      "cell_type": "code",
      "source": [
        "# Load the dataset using flow_from_dataframe\n",
        "excel_path = '/content/drive/MyDrive/AI/AI.xlsx'\n",
        "df = pd.read_excel(excel_path)\n",
        "\n",
        "# Create an ImageDataGenerator for data augmentation\n",
        "datagen = ImageDataGenerator(rescale=1./255,\n",
        "                             shear_range=0.2,\n",
        "                             zoom_range=0.2,\n",
        "                             horizontal_flip=True)\n"
      ],
      "metadata": {
        "id": "-N3gxc8UkFFr"
      },
      "execution_count": 5,
      "outputs": []
    },
    {
      "cell_type": "code",
      "source": [
        "# Convert 'Class' column to strings\n",
        "df['Class'] = df['Class'].astype(str)"
      ],
      "metadata": {
        "id": "WUVKsM-jk5_9"
      },
      "execution_count": 6,
      "outputs": []
    },
    {
      "cell_type": "code",
      "source": [
        "# Set up the generator for training data\n",
        "train_generator = datagen.flow_from_dataframe(dataframe=df,\n",
        "                                              directory='/content/drive/MyDrive/AI/',\n",
        "                                              x_col=\"Image path\",\n",
        "                                              y_col=\"Class\",\n",
        "                                              target_size=(224, 224),\n",
        "                                              batch_size=32,\n",
        "                                              class_mode='binary',\n",
        "                                              shuffle=True)"
      ],
      "metadata": {
        "colab": {
          "base_uri": "https://localhost:8080/"
        },
        "id": "wwQYINsOl6b9",
        "outputId": "f532c658-6b69-40ef-c2c5-ca75978f2260"
      },
      "execution_count": 7,
      "outputs": [
        {
          "output_type": "stream",
          "name": "stdout",
          "text": [
            "Found 8 validated image filenames belonging to 2 classes.\n"
          ]
        }
      ]
    },
    {
      "cell_type": "code",
      "source": [
        "# Train the model\n",
        "model.fit(train_generator, epochs=10)"
      ],
      "metadata": {
        "colab": {
          "base_uri": "https://localhost:8080/"
        },
        "id": "TDPN8C9RnOxE",
        "outputId": "ec2a88ce-3674-4141-8e09-8b6d46041166"
      },
      "execution_count": 8,
      "outputs": [
        {
          "output_type": "stream",
          "name": "stdout",
          "text": [
            "Epoch 1/10\n",
            "1/1 [==============================] - 6s 6s/step - loss: 0.7283 - accuracy: 0.5000\n",
            "Epoch 2/10\n",
            "1/1 [==============================] - 5s 5s/step - loss: 1.2499 - accuracy: 0.5000\n",
            "Epoch 3/10\n",
            "1/1 [==============================] - 6s 6s/step - loss: 1.2282 - accuracy: 0.6250\n",
            "Epoch 4/10\n",
            "1/1 [==============================] - 5s 5s/step - loss: 0.2116 - accuracy: 0.7500\n",
            "Epoch 5/10\n",
            "1/1 [==============================] - 6s 6s/step - loss: 0.3040 - accuracy: 0.8750\n",
            "Epoch 6/10\n",
            "1/1 [==============================] - 5s 5s/step - loss: 0.0766 - accuracy: 1.0000\n",
            "Epoch 7/10\n",
            "1/1 [==============================] - 5s 5s/step - loss: 0.0294 - accuracy: 1.0000\n",
            "Epoch 8/10\n",
            "1/1 [==============================] - 5s 5s/step - loss: 0.3274 - accuracy: 0.6250\n",
            "Epoch 9/10\n",
            "1/1 [==============================] - 6s 6s/step - loss: 0.0046 - accuracy: 1.0000\n",
            "Epoch 10/10\n",
            "1/1 [==============================] - 4s 4s/step - loss: 0.1068 - accuracy: 0.8750\n"
          ]
        },
        {
          "output_type": "execute_result",
          "data": {
            "text/plain": [
              "<keras.src.callbacks.History at 0x7ff89a592830>"
            ]
          },
          "metadata": {},
          "execution_count": 8
        }
      ]
    },
    {
      "cell_type": "code",
      "source": [
        "# Save the trained model\n",
        "model.save('/content/drive/MyDrive/medical_equipment_model.h5')"
      ],
      "metadata": {
        "colab": {
          "base_uri": "https://localhost:8080/"
        },
        "id": "JGfbUKFuoH_f",
        "outputId": "c351e8ba-abb8-4b8c-bf41-fe6b02e7d29d"
      },
      "execution_count": 9,
      "outputs": [
        {
          "output_type": "stream",
          "name": "stderr",
          "text": [
            "/usr/local/lib/python3.10/dist-packages/keras/src/engine/training.py:3103: UserWarning: You are saving your model as an HDF5 file via `model.save()`. This file format is considered legacy. We recommend using instead the native Keras format, e.g. `model.save('my_model.keras')`.\n",
            "  saving_api.save_model(\n"
          ]
        }
      ]
    },
    {
      "cell_type": "code",
      "source": [
        "from IPython.display import display, Image\n",
        "\n",
        "# Display some sample images from your dataset\n",
        "sample_images = df.sample(5)  # Displaying 5 random images\n",
        "for index, row in sample_images.iterrows():\n",
        "    img_path = row['Image path']\n",
        "    img_class = row['Class']\n",
        "\n",
        "    # Display the image along with class label\n",
        "    display(Image(filename=img_path, width=200, height=200))\n",
        "    print(f\"Class: {img_class}\")"
      ],
      "metadata": {
        "colab": {
          "base_uri": "https://localhost:8080/",
          "height": 1000
        },
        "id": "Ik2eTS7gpc5R",
        "outputId": "de19e744-2547-45fc-a13f-b66956eb3fa4"
      },
      "execution_count": 10,
      "outputs": [
        {
          "output_type": "display_data",
          "data": {
            "image/jpeg": "[encoded data removed]",
            "text/plain": [
              "<IPython.core.display.Image object>"
            ]
          },
          "metadata": {
            "image/jpeg": {
              "width": 200,
              "height": 200
            }
          }
        },
        {
          "output_type": "stream",
          "name": "stdout",
          "text": [
            "Class: 1\n"
          ]
        },
        {
          "output_type": "display_data",
          "data": {
            "image/jpeg": "[encoded data removed]",
            "text/plain": [
              "<IPython.core.display.Image object>"
            ]
          },
          "metadata": {
            "image/jpeg": {
              "width": 200,
              "height": 200
            }
          }
        },
        {
          "output_type": "stream",
          "name": "stdout",
          "text": [
            "Class: 0\n"
          ]
        },
        {
          "output_type": "display_data",
          "data": {
            "image/jpeg": "[encoded data removed]",
            "text/plain": [
              "<IPython.core.display.Image object>"
            ]
          },
          "metadata": {
            "image/jpeg": {
              "width": 200,
              "height": 200
            }
          }
        },
        {
          "output_type": "stream",
          "name": "stdout",
          "text": [
            "Class: 0\n"
          ]
        },
        {
          "output_type": "display_data",
          "data": {
            "image/jpeg": "[encoded data removed]",
            "text/plain": [
              "<IPython.core.display.Image object>"
            ]
          },
          "metadata": {
            "image/jpeg": {
              "width": 200,
              "height": 200
            }
          }
        },
        {
          "output_type": "stream",
          "name": "stdout",
          "text": [
            "Class: 0\n"
          ]
        },
        {
          "output_type": "display_data",
          "data": {
            "image/jpeg": "[encoded data removed]",
            "text/plain": [
              "<IPython.core.display.Image object>"
            ]
          },
          "metadata": {
            "image/jpeg": {
              "width": 200,
              "height": 200
            }
          }
        },
        {
          "output_type": "stream",
          "name": "stdout",
          "text": [
            "Class: 0\n"
          ]
        }
      ]
    },
    {
      "cell_type": "code",
      "source": [
        "# Import necessary libraries\n",
        "import tensorflow as tf\n",
        "from tensorflow.keras.models import Sequential\n",
        "from tensorflow.keras.layers import Conv2D, MaxPooling2D, Flatten, Dense, Dropout\n",
        "from tensorflow.keras.applications import VGG16, MobileNetV2\n",
        "from tensorflow.keras.preprocessing.image import ImageDataGenerator\n",
        "import pandas as pd\n",
        "\n",
        "\n"
      ],
      "metadata": {
        "id": "aypfI4eV4P1Q"
      },
      "execution_count": 11,
      "outputs": []
    },
    {
      "cell_type": "code",
      "source": [
        "# Load the dataset using flow_from_dataframe\n",
        "excel_path = '/content/drive/MyDrive/AI/AI.xlsx'\n",
        "df = pd.read_excel(excel_path)\n",
        "\n",
        "# Create an ImageDataGenerator for data augmentation\n",
        "datagen = ImageDataGenerator(rescale=1./255,\n",
        "                             shear_range=0.2,\n",
        "                             zoom_range=0.2,\n",
        "                             horizontal_flip=True)\n"
      ],
      "metadata": {
        "id": "r4JrTuD8eLMf"
      },
      "execution_count": 12,
      "outputs": []
    },
    {
      "cell_type": "code",
      "source": [
        "\n",
        "# Convert 'Class' column to strings\n",
        "df['Class'] = df['Class'].astype(str)\n",
        "\n",
        "# Set up the generator for training data\n",
        "train_generator = datagen.flow_from_dataframe(dataframe=df,\n",
        "                                              directory='/content/drive/MyDrive/AI/',\n",
        "                                              x_col=\"Image path\",\n",
        "                                              y_col=\"Class\",\n",
        "                                              target_size=(224, 224),\n",
        "                                              batch_size=32,\n",
        "                                              class_mode='binary',\n",
        "                                              shuffle=True)\n",
        "\n",
        "# Load VGG16 model\n",
        "base_model_vgg16 = VGG16(input_shape=(224, 224, 3),\n",
        "                         include_top=False,\n",
        "                         weights='imagenet')\n",
        "\n",
        "# Create a new model using VGG16\n",
        "model_vgg16 = Sequential([\n",
        "    base_model_vgg16,\n",
        "    Flatten(),\n",
        "    Dense(256, activation='relu'),\n",
        "    Dropout(0.5),\n",
        "    Dense(1, activation='sigmoid')\n",
        "])\n",
        "# Compile the VGG16 model\n",
        "model_vgg16.compile(optimizer='adam',\n",
        "                    loss='binary_crossentropy',\n",
        "                    metrics=['accuracy'])\n",
        "\n",
        "# Train the VGG16 model\n",
        "model_vgg16.fit(train_generator, epochs=10)\n",
        "\n",
        "# Load MobileNetV2 model\n",
        "base_model_mobilenet = MobileNetV2(input_shape=(224, 224, 3),\n",
        "                                   include_top=False,\n",
        "                                   weights='imagenet')\n",
        "\n",
        "# Create a new model using MobileNetV2\n",
        "model_mobilenet = Sequential([\n",
        "    base_model_mobilenet,\n",
        "    Flatten(),\n",
        "    Dense(256, activation='relu'),\n",
        "    Dropout(0.5),\n",
        "    Dense(1, activation='sigmoid')\n",
        "])\n",
        "\n",
        "# Compile the MobileNetV2 model\n",
        "model_mobilenet.compile(optimizer='adam',\n",
        "                        loss='binary_crossentropy',\n",
        "                        metrics=['accuracy'])\n",
        "\n",
        "# Train the MobileNetV2 model\n",
        "model_mobilenet.fit(train_generator, epochs=10)"
      ],
      "metadata": {
        "colab": {
          "base_uri": "https://localhost:8080/"
        },
        "id": "J6gNrtpKedlz",
        "outputId": "c416eb4a-7840-4258-cc9e-ee1b4669877e"
      },
      "execution_count": 15,
      "outputs": [
        {
          "output_type": "stream",
          "name": "stdout",
          "text": [
            "Found 8 validated image filenames belonging to 2 classes.\n",
            "Epoch 1/10\n",
            "1/1 [==============================] - 23s 23s/step - loss: 0.7816 - accuracy: 0.3750\n",
            "Epoch 2/10\n",
            "1/1 [==============================] - 18s 18s/step - loss: 2.2900 - accuracy: 0.6250\n",
            "Epoch 3/10\n",
            "1/1 [==============================] - 23s 23s/step - loss: 13.7870 - accuracy: 0.5000\n",
            "Epoch 4/10\n",
            "1/1 [==============================] - 20s 20s/step - loss: 0.7409 - accuracy: 0.5000\n",
            "Epoch 5/10\n",
            "1/1 [==============================] - 18s 18s/step - loss: 0.9570 - accuracy: 0.5000\n",
            "Epoch 6/10\n",
            "1/1 [==============================] - 19s 19s/step - loss: 0.6951 - accuracy: 0.3750\n",
            "Epoch 7/10\n",
            "1/1 [==============================] - 18s 18s/step - loss: 0.7620 - accuracy: 0.5000\n",
            "Epoch 8/10\n",
            "1/1 [==============================] - 18s 18s/step - loss: 0.7410 - accuracy: 0.5000\n",
            "Epoch 9/10\n",
            "1/1 [==============================] - 19s 19s/step - loss: 0.7666 - accuracy: 0.5000\n",
            "Epoch 10/10\n",
            "1/1 [==============================] - 18s 18s/step - loss: 0.6711 - accuracy: 0.5000\n",
            "Downloading data from https://storage.googleapis.com/tensorflow/keras-applications/mobilenet_v2/mobilenet_v2_weights_tf_dim_ordering_tf_kernels_1.0_224_no_top.h5\n",
            "9406464/9406464 [==============================] - 0s 0us/step\n",
            "Epoch 1/10\n",
            "1/1 [==============================] - 20s 20s/step - loss: 1.2240 - accuracy: 0.5000\n",
            "Epoch 2/10\n",
            "1/1 [==============================] - 2s 2s/step - loss: 1.5493e-04 - accuracy: 1.0000\n",
            "Epoch 3/10\n",
            "1/1 [==============================] - 2s 2s/step - loss: 0.7395 - accuracy: 0.8750\n",
            "Epoch 4/10\n",
            "1/1 [==============================] - 2s 2s/step - loss: 6.7665e-04 - accuracy: 1.0000\n",
            "Epoch 5/10\n",
            "1/1 [==============================] - 3s 3s/step - loss: 5.7817e-06 - accuracy: 1.0000\n",
            "Epoch 6/10\n",
            "1/1 [==============================] - 2s 2s/step - loss: 3.9014e-07 - accuracy: 1.0000\n",
            "Epoch 7/10\n",
            "1/1 [==============================] - 2s 2s/step - loss: 0.8715 - accuracy: 0.8750\n",
            "Epoch 8/10\n",
            "1/1 [==============================] - 2s 2s/step - loss: 1.7307e-09 - accuracy: 1.0000\n",
            "Epoch 9/10\n",
            "1/1 [==============================] - 2s 2s/step - loss: 0.9616 - accuracy: 0.8750\n",
            "Epoch 10/10\n",
            "1/1 [==============================] - 3s 3s/step - loss: 3.5781e-07 - accuracy: 1.0000\n"
          ]
        },
        {
          "output_type": "execute_result",
          "data": {
            "text/plain": [
              "<keras.src.callbacks.History at 0x7ff89b0cb9a0>"
            ]
          },
          "metadata": {},
          "execution_count": 15
        }
      ]
    },
    {
      "cell_type": "code",
      "source": [
        "from IPython.display import display, Image\n",
        "import random\n",
        "\n",
        "# Function to display sample images\n",
        "def display_sample_images(model, df, num_images=5):\n",
        "    # Display some sample images from your dataset\n",
        "    sample_images = df.sample(num_images)  # Displaying 'num_images' random images\n",
        "\n",
        "    for index, row in sample_images.iterrows():\n",
        "        img_path = row['Image path']\n",
        "        img_class = row['Class']\n",
        "\n",
        "        # Display the image along with class label\n",
        "        display(Image(filename=img_path, width=200, height=200))\n",
        "        print(f\"Class: {img_class}\")\n",
        "\n",
        "        # Use the model to make predictions (assuming 'model' is already defined)\n",
        "        # prediction = model.predict(preprocess_image(img_path))  # Adjust this line based on model input requirements\n",
        "        # print(f\"Model Prediction: {prediction}\")\n",
        "\n",
        "# Display sample images for your model\n",
        "display_sample_images(model, df)"
      ],
      "metadata": {
        "colab": {
          "base_uri": "https://localhost:8080/",
          "height": 1000
        },
        "id": "BPwu9YuS5yAP",
        "outputId": "35d7ab3f-819a-47c2-a128-fa28b89a536f"
      },
      "execution_count": 16,
      "outputs": [
        {
          "output_type": "display_data",
          "data": {
            "image/jpeg": "[encoded data removed]",
            "text/plain": [
              "<IPython.core.display.Image object>"
            ]
          },
          "metadata": {
            "image/jpeg": {
              "width": 200,
              "height": 200
            }
          }
        },
        {
          "output_type": "stream",
          "name": "stdout",
          "text": [
            "Class: 0\n"
          ]
        },
        {
          "output_type": "display_data",
          "data": {
            "image/jpeg": "[encoded data removed]",
            "text/plain": [
              "<IPython.core.display.Image object>"
            ]
          },
          "metadata": {
            "image/jpeg": {
              "width": 200,
              "height": 200
            }
          }
        },
        {
          "output_type": "stream",
          "name": "stdout",
          "text": [
            "Class: 1\n"
          ]
        },
        {
          "output_type": "display_data",
          "data": {
            "image/jpeg": "[encoded data removed]",
            "text/plain": [
              "<IPython.core.display.Image object>"
            ]
          },
          "metadata": {
            "image/jpeg": {
              "width": 200,
              "height": 200
            }
          }
        },
        {
          "output_type": "stream",
          "name": "stdout",
          "text": [
            "Class: 1\n"
          ]
        },
        {
          "output_type": "display_data",
          "data": {
            "image/jpeg": "[encoded data removed]",
            "text/plain": [
              "<IPython.core.display.Image object>"
            ]
          },
          "metadata": {
            "image/jpeg": {
              "width": 200,
              "height": 200
            }
          }
        },
        {
          "output_type": "stream",
          "name": "stdout",
          "text": [
            "Class: 0\n"
          ]
        },
        {
          "output_type": "display_data",
          "data": {
            "image/jpeg": "[encoded data removed]",
            "text/plain": [
              "<IPython.core.display.Image object>"
            ]
          },
          "metadata": {
            "image/jpeg": {
              "width": 200,
              "height": 200
            }
          }
        },
        {
          "output_type": "stream",
          "name": "stdout",
          "text": [
            "Class: 0\n"
          ]
        }
      ]
    }
  ]
}